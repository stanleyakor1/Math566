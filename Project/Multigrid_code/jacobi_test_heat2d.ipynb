{
 "cells": [
  {
   "cell_type": "code",
   "execution_count": 1,
   "id": "8627699f",
   "metadata": {},
   "outputs": [],
   "source": [
    "from numpy import *\n",
    "from numpy.linalg import *\n",
    "from matplotlib.pyplot import *"
   ]
  },
  {
   "cell_type": "markdown",
   "id": "2b399f13",
   "metadata": {},
   "source": [
    "Testing out a jacobi iterative scheme on a 2D implicit finite difference (FD) discretization of the heat equation given by,\n",
    "\\begin{align}\n",
    "\\frac{\\partial{T}}{\\partial{t}} = \\alpha \\left[\\frac{\\partial{T}^2}{\\partial{x}^2} + \\frac{\\partial{T}^2}{\\partial{y}^2}\\right]\n",
    "\\end{align}\n",
    "\n",
    "Where $\\alpha$ is a material dependent diffusivity term. The FD discretization is a follows: \n",
    "\\begin{align}\n",
    "T^{n+1,k+1}_{i,j} = \\frac{T^{n}_{i,j}}{1 + 4K} + \\frac{k}{1 + 4K} \\left(T^{n+1,k}_{i-1,j} + T^{n+1,k}_{i+1,j} + T^{n+1,k}_{i,j-1}  + T^{n+1,k}_{i,j+1} \\right)\n",
    "\\end{align}\n",
    "Where $K = \\frac{\\alpha\\Delta t}{\\Delta x^{2}}$"
   ]
  },
  {
   "cell_type": "code",
   "execution_count": 2,
   "id": "2f16718d",
   "metadata": {},
   "outputs": [],
   "source": [
    "def jacobi_implicit_scheme(T,T_prev_dt,nx,ny,K):\n",
    "    Told = T.copy()\n",
    "    for i in range(1,nx-1):\n",
    "        for j in range(1,ny -1):\n",
    "            dT = Told[i-1,j] + Told[i+1,j]+Told[i,j-1]+Told[i,j+1]\n",
    "            T[i,j] = 1/(4*K + 1)*T_prev_dt[i,j] + K/(1+4*K)*dT\n",
    "    error = np.max(np.abs(T - Told))\n",
    "    return T,error\n",
    "    "
   ]
  },
  {
   "cell_type": "code",
   "execution_count": 3,
   "id": "609237bd",
   "metadata": {},
   "outputs": [],
   "source": [
    "nx = ny = 31\n",
    "x = linspace(0,1,nx)\n",
    "y = linspace(0,1,ny)\n",
    "dt = 0.05\n",
    "\n",
    "t_start = 0\n",
    "t_end = 20\n",
    "t = arange(t_start,t_end+dt,dt)\n",
    "T = zeros((nx,nx))\n",
    "tol = 1e-5\n",
    "\n",
    "h = y[1] - y[0]\n",
    "dt = t[1] -t[0]\n",
    "alpha = 2.5\n",
    "K = alpha*dt/h**2\n",
    "\n",
    "## BCs\n",
    "\n",
    "T[0,1:-1] = 900\n",
    "#T[-1,1:-1] = 600\n",
    "# T[1:-1,0] = 400\n",
    "# T[1:-1,-1] = 800\n",
    "# T[0,0] = 650\n",
    "# T[0,-1] = 850\n",
    "# T[-1,-1] = 700\n",
    "# T[-1,0] =500"
   ]
  },
  {
   "cell_type": "code",
   "execution_count": null,
   "id": "0734664f",
   "metadata": {},
   "outputs": [],
   "source": []
  },
  {
   "cell_type": "code",
   "execution_count": 4,
   "id": "d1eb0cf8",
   "metadata": {},
   "outputs": [],
   "source": [
    "iter = 0\n",
    "for i in range(len(t)):\n",
    "    T_prev_dt = T\n",
    "    err = 1\n",
    "    while (err>= tol):\n",
    "        T,err = jacobi_implicit_scheme(T,T_prev_dt,nx,ny,K)\n",
    "        iter +=1"
   ]
  },
  {
   "cell_type": "code",
   "execution_count": null,
   "id": "8d424223",
   "metadata": {},
   "outputs": [],
   "source": []
  },
  {
   "cell_type": "code",
   "execution_count": 5,
   "id": "423d1790",
   "metadata": {},
   "outputs": [
    {
     "data": {
      "image/png": "[encoded data removed]",
      "text/plain": [
       "<Figure size 432x288 with 2 Axes>"
      ]
     },
     "metadata": {
      "needs_background": "light"
     },
     "output_type": "display_data"
    }
   ],
   "source": [
    "contourf(x, y, T, cmap='hot')\n",
    "xlabel('x')\n",
    "ylabel('y')\n",
    "colorbar()\n",
    "show()"
   ]
  },
  {
   "cell_type": "code",
   "execution_count": null,
   "id": "c238ce0b",
   "metadata": {},
   "outputs": [],
   "source": []
  },
  {
   "cell_type": "code",
   "execution_count": null,
   "id": "3c58d5cf",
   "metadata": {},
   "outputs": [],
   "source": []
  }
 ],
 "metadata": {
  "kernelspec": {
   "display_name": "ipykernel",
   "language": "python",
   "name": "python3"
  },
  "language_info": {
   "codemirror_mode": {
    "name": "ipython",
    "version": 3
   },
   "file_extension": ".py",
   "mimetype": "text/x-python",
   "name": "python",
   "nbconvert_exporter": "python",
   "pygments_lexer": "ipython3",
   "version": "3.9.12"
  }
 },
 "nbformat": 4,
 "nbformat_minor": 5
}
