{
 "cells": [
  {
   "cell_type": "code",
   "execution_count": 1,
   "metadata": {},
   "outputs": [
    {
     "name": "stdout",
     "output_type": "stream",
     "text": [
      "Using matplotlib backend: nbAgg\n",
      "%pylab is deprecated, use %matplotlib inline and import the required libraries.\n",
      "Populating the interactive namespace from numpy and matplotlib\n"
     ]
    }
   ],
   "source": [
    "%matplotlib notebook\n",
    "%pylab\n",
    "import sympy as sp"
   ]
  },
  {
   "cell_type": "markdown",
   "metadata": {},
   "source": [
    "\n",
    "\n",
    "### Problem 2 \n",
    "\n",
    "Consider the matrix\n",
    "\n",
    "\\begin{equation}\n",
    "A = \n",
    "\\begin{bmatrix}\n",
    "4 & 1 \\\\ 1 & 3\n",
    "\\end{bmatrix}\n",
    "\\end{equation}\n",
    "\n",
    "\n",
    "\n",
    "**(c)** What are the 2-norm, $\\infty$-norm and Frobenius norms of $A$?  Verify Theorem 5.3 in TB. \n",
    "\n",
    "**(d)** Compute $A^{-1}$ using the SVD (do not find it directly). \n",
    "\n",
    "**(e)** Find the eigenvalues $\\lambda_1$ and $\\lambda_2$ of $A$. \n",
    "\n",
    "**(f)** Verify that $\\det A = \\lambda_1 \\lambda_2$ and $|\\det A| = \\sigma_1 \\sigma_2$.  \n",
    "\n",
    "**(g)** What is area of the ellipsoid onto which $A$ maps the unit disk in $\\mathbb R^2$?  "
   ]
  },
  {
   "cell_type": "code",
   "execution_count": 2,
   "metadata": {},
   "outputs": [],
   "source": [
    "def SVD(A):\n",
    "\n",
    "    AtA = A.transpose()*A\n",
    "    S2 = AtA.eigenvects()  \n",
    "    m,n = A.shape\n",
    "\n",
    "    U = sp.Matrix(m,0,[]) # initialize the U vector\n",
    "    V = sp.Matrix(n,0,[]) # initialize the V vector\n",
    "    r = A.rank() \n",
    "    S = sp.Matrix(r,r,[0]*r*2)\n",
    "    k = 0\n",
    "    for i,t in enumerate(S2):    \n",
    "       \n",
    "        s = sp.sqrt(t[0])\n",
    "\n",
    "        \n",
    "        if s > 0:            \n",
    "            S[k,k] = s\n",
    "            for v in t[2]:\n",
    "                v = v/v.norm(2)\n",
    "                V = sp.Matrix.hstack(V,v)\n",
    "\n",
    "                u = A*v/s\n",
    "                u = u/u.norm(2)\n",
    "                U = sp.Matrix.hstack(U,u)\n",
    "            k += 1\n",
    "    return U,S,V"
   ]
  },
  {
   "cell_type": "markdown",
   "metadata": {},
   "source": [
    "**(a)** Compute the real SVD (either by hand, or using Sympy).  "
   ]
  },
  {
   "cell_type": "code",
   "execution_count": 3,
   "metadata": {},
   "outputs": [
    {
     "name": "stdout",
     "output_type": "stream",
     "text": [
      "U=\n"
     ]
    },
    {
     "data": {
      "text/latex": [
       "$\\displaystyle \\left[\\begin{matrix}\\frac{\\frac{4 \\cdot \\left(\\frac{1}{2} - \\frac{\\sqrt{5}}{2}\\right)}{\\sqrt{\\left(- \\frac{1}{2} + \\frac{\\sqrt{5}}{2}\\right)^{2} + 1}} + \\frac{1}{\\sqrt{\\left(- \\frac{1}{2} + \\frac{\\sqrt{5}}{2}\\right)^{2} + 1}}}{\\sqrt{\\frac{27}{2} - \\frac{7 \\sqrt{5}}{2}} \\sqrt{\\frac{\\left(- \\frac{1}{\\sqrt{\\left(\\frac{1}{2} - \\frac{\\sqrt{5}}{2}\\right)^{2} + 1}} - \\frac{4 \\cdot \\left(\\frac{1}{2} - \\frac{\\sqrt{5}}{2}\\right)}{\\sqrt{\\left(\\frac{1}{2} - \\frac{\\sqrt{5}}{2}\\right)^{2} + 1}}\\right)^{2}}{\\frac{27}{2} - \\frac{7 \\sqrt{5}}{2}} + \\frac{\\left(\\frac{\\frac{1}{2} - \\frac{\\sqrt{5}}{2}}{\\sqrt{\\left(\\frac{1}{2} - \\frac{\\sqrt{5}}{2}\\right)^{2} + 1}} + \\frac{3}{\\sqrt{\\left(\\frac{1}{2} - \\frac{\\sqrt{5}}{2}\\right)^{2} + 1}}\\right)^{2}}{\\frac{27}{2} - \\frac{7 \\sqrt{5}}{2}}}} & \\frac{\\frac{1}{\\sqrt{1 + \\left(\\frac{1}{2} + \\frac{\\sqrt{5}}{2}\\right)^{2}}} + \\frac{4 \\cdot \\left(\\frac{1}{2} + \\frac{\\sqrt{5}}{2}\\right)}{\\sqrt{1 + \\left(\\frac{1}{2} + \\frac{\\sqrt{5}}{2}\\right)^{2}}}}{\\sqrt{\\frac{7 \\sqrt{5}}{2} + \\frac{27}{2}} \\sqrt{\\frac{\\left(\\frac{\\frac{1}{2} + \\frac{\\sqrt{5}}{2}}{\\sqrt{1 + \\left(\\frac{1}{2} + \\frac{\\sqrt{5}}{2}\\right)^{2}}} + \\frac{3}{\\sqrt{1 + \\left(\\frac{1}{2} + \\frac{\\sqrt{5}}{2}\\right)^{2}}}\\right)^{2}}{\\frac{7 \\sqrt{5}}{2} + \\frac{27}{2}} + \\frac{\\left(\\frac{1}{\\sqrt{1 + \\left(\\frac{1}{2} + \\frac{\\sqrt{5}}{2}\\right)^{2}}} + \\frac{4 \\cdot \\left(\\frac{1}{2} + \\frac{\\sqrt{5}}{2}\\right)}{\\sqrt{1 + \\left(\\frac{1}{2} + \\frac{\\sqrt{5}}{2}\\right)^{2}}}\\right)^{2}}{\\frac{7 \\sqrt{5}}{2} + \\frac{27}{2}}}}\\\\\\frac{\\frac{\\frac{1}{2} - \\frac{\\sqrt{5}}{2}}{\\sqrt{\\left(- \\frac{1}{2} + \\frac{\\sqrt{5}}{2}\\right)^{2} + 1}} + \\frac{3}{\\sqrt{\\left(- \\frac{1}{2} + \\frac{\\sqrt{5}}{2}\\right)^{2} + 1}}}{\\sqrt{\\frac{27}{2} - \\frac{7 \\sqrt{5}}{2}} \\sqrt{\\frac{\\left(- \\frac{1}{\\sqrt{\\left(\\frac{1}{2} - \\frac{\\sqrt{5}}{2}\\right)^{2} + 1}} - \\frac{4 \\cdot \\left(\\frac{1}{2} - \\frac{\\sqrt{5}}{2}\\right)}{\\sqrt{\\left(\\frac{1}{2} - \\frac{\\sqrt{5}}{2}\\right)^{2} + 1}}\\right)^{2}}{\\frac{27}{2} - \\frac{7 \\sqrt{5}}{2}} + \\frac{\\left(\\frac{\\frac{1}{2} - \\frac{\\sqrt{5}}{2}}{\\sqrt{\\left(\\frac{1}{2} - \\frac{\\sqrt{5}}{2}\\right)^{2} + 1}} + \\frac{3}{\\sqrt{\\left(\\frac{1}{2} - \\frac{\\sqrt{5}}{2}\\right)^{2} + 1}}\\right)^{2}}{\\frac{27}{2} - \\frac{7 \\sqrt{5}}{2}}}} & \\frac{\\frac{\\frac{1}{2} + \\frac{\\sqrt{5}}{2}}{\\sqrt{1 + \\left(\\frac{1}{2} + \\frac{\\sqrt{5}}{2}\\right)^{2}}} + \\frac{3}{\\sqrt{1 + \\left(\\frac{1}{2} + \\frac{\\sqrt{5}}{2}\\right)^{2}}}}{\\sqrt{\\frac{7 \\sqrt{5}}{2} + \\frac{27}{2}} \\sqrt{\\frac{\\left(\\frac{\\frac{1}{2} + \\frac{\\sqrt{5}}{2}}{\\sqrt{1 + \\left(\\frac{1}{2} + \\frac{\\sqrt{5}}{2}\\right)^{2}}} + \\frac{3}{\\sqrt{1 + \\left(\\frac{1}{2} + \\frac{\\sqrt{5}}{2}\\right)^{2}}}\\right)^{2}}{\\frac{7 \\sqrt{5}}{2} + \\frac{27}{2}} + \\frac{\\left(\\frac{1}{\\sqrt{1 + \\left(\\frac{1}{2} + \\frac{\\sqrt{5}}{2}\\right)^{2}}} + \\frac{4 \\cdot \\left(\\frac{1}{2} + \\frac{\\sqrt{5}}{2}\\right)}{\\sqrt{1 + \\left(\\frac{1}{2} + \\frac{\\sqrt{5}}{2}\\right)^{2}}}\\right)^{2}}{\\frac{7 \\sqrt{5}}{2} + \\frac{27}{2}}}}\\end{matrix}\\right]$"
      ],
      "text/plain": [
       "Matrix([\n",
       "[(4*(1/2 - sqrt(5)/2)/sqrt((-1/2 + sqrt(5)/2)**2 + 1) + 1/sqrt((-1/2 + sqrt(5)/2)**2 + 1))/(sqrt(27/2 - 7*sqrt(5)/2)*sqrt((-1/sqrt((1/2 - sqrt(5)/2)**2 + 1) - 4*(1/2 - sqrt(5)/2)/sqrt((1/2 - sqrt(5)/2)**2 + 1))**2/(27/2 - 7*sqrt(5)/2) + ((1/2 - sqrt(5)/2)/sqrt((1/2 - sqrt(5)/2)**2 + 1) + 3/sqrt((1/2 - sqrt(5)/2)**2 + 1))**2/(27/2 - 7*sqrt(5)/2))), (1/sqrt(1 + (1/2 + sqrt(5)/2)**2) + 4*(1/2 + sqrt(5)/2)/sqrt(1 + (1/2 + sqrt(5)/2)**2))/(sqrt(7*sqrt(5)/2 + 27/2)*sqrt(((1/2 + sqrt(5)/2)/sqrt(1 + (1/2 + sqrt(5)/2)**2) + 3/sqrt(1 + (1/2 + sqrt(5)/2)**2))**2/(7*sqrt(5)/2 + 27/2) + (1/sqrt(1 + (1/2 + sqrt(5)/2)**2) + 4*(1/2 + sqrt(5)/2)/sqrt(1 + (1/2 + sqrt(5)/2)**2))**2/(7*sqrt(5)/2 + 27/2)))],\n",
       "[  ((1/2 - sqrt(5)/2)/sqrt((-1/2 + sqrt(5)/2)**2 + 1) + 3/sqrt((-1/2 + sqrt(5)/2)**2 + 1))/(sqrt(27/2 - 7*sqrt(5)/2)*sqrt((-1/sqrt((1/2 - sqrt(5)/2)**2 + 1) - 4*(1/2 - sqrt(5)/2)/sqrt((1/2 - sqrt(5)/2)**2 + 1))**2/(27/2 - 7*sqrt(5)/2) + ((1/2 - sqrt(5)/2)/sqrt((1/2 - sqrt(5)/2)**2 + 1) + 3/sqrt((1/2 - sqrt(5)/2)**2 + 1))**2/(27/2 - 7*sqrt(5)/2))),   ((1/2 + sqrt(5)/2)/sqrt(1 + (1/2 + sqrt(5)/2)**2) + 3/sqrt(1 + (1/2 + sqrt(5)/2)**2))/(sqrt(7*sqrt(5)/2 + 27/2)*sqrt(((1/2 + sqrt(5)/2)/sqrt(1 + (1/2 + sqrt(5)/2)**2) + 3/sqrt(1 + (1/2 + sqrt(5)/2)**2))**2/(7*sqrt(5)/2 + 27/2) + (1/sqrt(1 + (1/2 + sqrt(5)/2)**2) + 4*(1/2 + sqrt(5)/2)/sqrt(1 + (1/2 + sqrt(5)/2)**2))**2/(7*sqrt(5)/2 + 27/2)))]])"
      ]
     },
     "metadata": {},
     "output_type": "display_data"
    }
   ],
   "source": [
    "A= sp.Matrix(2,2,[4, 1, 1, 3])\n",
    "U,S,V = SVD(A)\n",
    "print('U=')\n",
    "display(U)"
   ]
  },
  {
   "cell_type": "code",
   "execution_count": 4,
   "metadata": {},
   "outputs": [
    {
     "name": "stdout",
     "output_type": "stream",
     "text": [
      "V=\n"
     ]
    },
    {
     "data": {
      "text/latex": [
       "$\\displaystyle \\left[\\begin{matrix}\\frac{\\frac{1}{2} - \\frac{\\sqrt{5}}{2}}{\\sqrt{\\left(- \\frac{1}{2} + \\frac{\\sqrt{5}}{2}\\right)^{2} + 1}} & \\frac{\\frac{1}{2} + \\frac{\\sqrt{5}}{2}}{\\sqrt{1 + \\left(\\frac{1}{2} + \\frac{\\sqrt{5}}{2}\\right)^{2}}}\\\\\\frac{1}{\\sqrt{\\left(- \\frac{1}{2} + \\frac{\\sqrt{5}}{2}\\right)^{2} + 1}} & \\frac{1}{\\sqrt{1 + \\left(\\frac{1}{2} + \\frac{\\sqrt{5}}{2}\\right)^{2}}}\\end{matrix}\\right]$"
      ],
      "text/plain": [
       "Matrix([\n",
       "[(1/2 - sqrt(5)/2)/sqrt((-1/2 + sqrt(5)/2)**2 + 1), (1/2 + sqrt(5)/2)/sqrt(1 + (1/2 + sqrt(5)/2)**2)],\n",
       "[                1/sqrt((-1/2 + sqrt(5)/2)**2 + 1),                 1/sqrt(1 + (1/2 + sqrt(5)/2)**2)]])"
      ]
     },
     "metadata": {},
     "output_type": "display_data"
    }
   ],
   "source": [
    "print('V=')\n",
    "display(V)"
   ]
  },
  {
   "cell_type": "code",
   "execution_count": 5,
   "metadata": {},
   "outputs": [
    {
     "name": "stdout",
     "output_type": "stream",
     "text": [
      "S=\n"
     ]
    },
    {
     "data": {
      "text/latex": [
       "$\\displaystyle \\left[\\begin{matrix}\\sqrt{\\frac{27}{2} - \\frac{7 \\sqrt{5}}{2}} & 0\\\\0 & \\sqrt{\\frac{7 \\sqrt{5}}{2} + \\frac{27}{2}}\\end{matrix}\\right]$"
      ],
      "text/plain": [
       "Matrix([\n",
       "[sqrt(27/2 - 7*sqrt(5)/2),                        0],\n",
       "[                       0, sqrt(7*sqrt(5)/2 + 27/2)]])"
      ]
     },
     "metadata": {},
     "output_type": "display_data"
    }
   ],
   "source": [
    "print('S=')\n",
    "display(S)"
   ]
  },
  {
   "cell_type": "markdown",
   "metadata": {},
   "source": [
    "**(c)** What are the 1-norm, 2-norm, $\\infty$-norm and Frobenius norms of $A$?  Verify Theorem 5.3 in TB. "
   ]
  },
  {
   "cell_type": "code",
   "execution_count": 7,
   "metadata": {},
   "outputs": [
    {
     "data": {
      "text/latex": [
       "$\\displaystyle \\sqrt{\\frac{7 \\sqrt{5}}{2} + \\frac{27}{2}}$"
      ],
      "text/plain": [
       "sqrt(7*sqrt(5)/2 + 27/2)"
      ]
     },
     "metadata": {},
     "output_type": "display_data"
    }
   ],
   "source": [
    "from sympy import oo\n",
    "display(A.norm(2))\n",
    "# display_mat(\"1-norm = \",A.norm(1))\n",
    "# display_mat(\"2-norm = \",A.norm(2))\n",
    "# display_mat(\"inf-norm = \",A.norm(oo))\n",
    "# display_mat(\"Frobenius norm = \",A.norm('fro'))\n"
   ]
  },
  {
   "cell_type": "markdown",
   "metadata": {},
   "source": [
    "The 2-norm is equal to the largest singular value, and the Frobenius norm is equal to : "
   ]
  },
  {
   "cell_type": "code",
   "execution_count": null,
   "metadata": {},
   "outputs": [],
   "source": [
    "\n",
    "display_mat(\"Frobenius norm = \",sp.sqrt(S[0,0]**2 + S[1,1]**2))"
   ]
  },
  {
   "cell_type": "markdown",
   "metadata": {},
   "source": [
    "**(d)** Find $A^{-1}$ using the SVD."
   ]
  },
  {
   "cell_type": "code",
   "execution_count": null,
   "metadata": {},
   "outputs": [],
   "source": [
    "Sinv = sp.Matrix(2,2,[1/S[0,0],0,0,1/S[1,1]])\n",
    "Ainv = V*Sinv*U.T\n",
    "display_mat(\"Ainv = \", Ainv)\n",
    "display_mat(\"A*Ainv = \", A*Ainv)"
   ]
  },
  {
   "cell_type": "markdown",
   "metadata": {},
   "source": [
    "**(e)** Find the eigenvalues $\\lambda_1$ and $\\lambda_2$ of $A$. "
   ]
  },
  {
   "cell_type": "code",
   "execution_count": null,
   "metadata": {},
   "outputs": [],
   "source": [
    "evv = A.eigenvects()\n",
    "l1 = evv[0][0]\n",
    "l2 = evv[1][0]\n",
    "display(l1, l2)\n"
   ]
  },
  {
   "cell_type": "markdown",
   "metadata": {},
   "source": [
    "**(f)** Verify that $\\det A = \\lambda_1 \\lambda_2$ and $|\\det A| = \\sigma_1 \\sigma_2$ (Theorem 5.6 (TB)).  "
   ]
  },
  {
   "cell_type": "code",
   "execution_count": null,
   "metadata": {},
   "outputs": [],
   "source": [
    "display_mat(\"det(A) = \",A.det())\n",
    "display_mat(\"l1*l2 = \", (l1*l2).evalf())\n",
    "\n",
    "display_mat(\"s1*s2 = \",s1*s2)"
   ]
  },
  {
   "cell_type": "markdown",
   "metadata": {},
   "source": [
    "**(g)** What is area of the ellipsoid onto which $A$ maps the unit disk in $\\mathbb R^2$?  "
   ]
  },
  {
   "cell_type": "markdown",
   "metadata": {},
   "source": [
    "#### Solution\n",
    "\n",
    "The area of an ellipse is $\\pi a b$, where $a$ and $b$ are the lengths of the major and minor axes.  These lengths are the singular values, so we have \n",
    "\n",
    "\\begin{equation}\n",
    "\\mbox{area} = \\pi \\sigma_1 \\sigma_2 = |\\det(A)|\\pi\n",
    "\\end{equation}"
   ]
  },
  {
   "cell_type": "code",
   "execution_count": null,
   "metadata": {},
   "outputs": [],
   "source": [
    "QF=sp.Matrix(3,3,['a_11',0,0,'a_21','a_22',0,'a_31','a_32','a_33'])\n",
    "QF_T=sp.Matrix(3,3,['at_11','at_12','at_13',0,'at_22','at_23',0,0,'at_33'])\n",
    "#QA=sp.Matrix(3,3,[1,0,0,2,3,0,4,5,6]).T"
   ]
  },
  {
   "cell_type": "code",
   "execution_count": null,
   "metadata": {},
   "outputs": [],
   "source": [
    "QF@QF_T"
   ]
  },
  {
   "cell_type": "code",
   "execution_count": null,
   "metadata": {},
   "outputs": [],
   "source": [
    "QF"
   ]
  },
  {
   "cell_type": "code",
   "execution_count": null,
   "metadata": {},
   "outputs": [],
   "source": [
    "QF@QF.T"
   ]
  },
  {
   "cell_type": "code",
   "execution_count": null,
   "metadata": {},
   "outputs": [],
   "source": [
    "sp.Inverse(QF)"
   ]
  },
  {
   "cell_type": "code",
   "execution_count": null,
   "metadata": {},
   "outputs": [],
   "source": [
    "AA=sp.Matrix(2,2,[4,1,1,3])\n",
    "AA@AA.T"
   ]
  },
  {
   "cell_type": "code",
   "execution_count": null,
   "metadata": {},
   "outputs": [],
   "source": [
    "# Suppose Q is an orthogonal lower triangular matrix and let Q^T be the transpose of Q.  Then QQ^T = I, where I is the identity matrix.\n",
    "\n",
    "# We can perform forward substitution to solve for Q^T.  First, we have \n",
    "# Q_{11}Q^T_{11} = I_{11}\n",
    "# so Q^T_{11} = 1/Q_{11}.\n",
    "\n",
    "# Now, for the rest of the entries, we have\n",
    "# Q_{12}Q^T_{11} + Q_{22}Q^T_{22} = I_{22}\n",
    "# Substituting in the value of Q^T_{11} derived above, this reduces to\n",
    "# Q_{12}/Q_{11} + Q_{22}Q^T_{22} = I_{22}.\n",
    "# Re-arranging, this gives\n",
    "# Q_{22}Q^T_{22} = I_{22} - Q_{12}/Q_{11}\n",
    "# and thus Q^T_{22} = 1/Q_{22} (I_{22} - Q_{12}/Q_{11}).\n",
    "\n",
    "# Continuing in this way, we can solve for each entry of Q^T in terms of entries of Q.  However, it is easy to see that each entry of Q^T is a function of entries of Q in either the same row or the same column.  Therefore, Q^T is a lower triangular matrix, and thus Q is a diagonal matrix.\n"
   ]
  },
  {
   "cell_type": "code",
   "execution_count": null,
   "metadata": {},
   "outputs": [],
   "source": [
    "# Let Q be an orthogonal, lower triangular matrix with elements qij. Then QT is an orthogonal, upper triangular matrix with elements qji. \n",
    "\n",
    "# Let I be the identity matrix. \n",
    "\n",
    "# Then, QQ^T = I. \n",
    "\n",
    "# By performing forward substitution on this system, we obtain the following:\n",
    "\n",
    "# q11q11 + q12q21 + q13q31 + ... + q1nqn1 = 1\n",
    "\n",
    "# q21q11 + q22q21 + q23q31 + ... + q2nqn1 = 0\n",
    "\n",
    "# ...\n",
    "\n",
    "# qn1q11 + qn2q21 + qn3q31 + ... + qnnqn1 = 0\n",
    "\n",
    "# Since Q is lower triangular, all elements above the diagonal are equal to 0. Therefore, the equation simplifies to:\n",
    "\n",
    "# q11q11 = 1\n",
    "\n",
    "# q22q22 = 1\n",
    "\n",
    "# ...\n",
    "\n",
    "# qnnqnn = 1\n",
    "\n",
    "# This implies that q11 = q22 = ... = qnn = 1, and therefore, Q is diagonal."
   ]
  },
  {
   "cell_type": "code",
   "execution_count": null,
   "metadata": {},
   "outputs": [],
   "source": [
    "# Since Q is orthogonal, we have that QQ^T = I. \n",
    "\n",
    "# Let us consider the (i, j) entry of QQ^T.\n",
    "\n",
    "# If i ≠ j:\n",
    "\n",
    "# QQ^T(i, j) = (Q(i, 1)Q^T(1, j) + Q(i, 2)Q^T(2, j) + ... + Q(i, n)Q^T(n, j)) \n",
    "\n",
    "# Since Q is lower triangular, each term with i > j is 0, so we have that \n",
    "\n",
    "# QQ^T(i, j) = 0 \n",
    "\n",
    "# Similarly, if j > i, we have that \n",
    "\n",
    "# QQ^T(i, j) = 0 \n",
    "\n",
    "# Therefore, if i ≠ j, we have that \n",
    "\n",
    "# QQ^T(i, j) = 0 \n",
    "\n",
    "# If i = j:\n",
    "\n",
    "# QQ^T(i, j) = (Q(i, 1)Q^T(1, j) + Q(i, 2)Q^T(2, j) + ... + Q(i, n)Q^T(n, j)) \n",
    "\n",
    "# Since Q is lower triangular, each term with i > j is 0, so we have that \n",
    "\n",
    "# QQ^T(i, j) = Q(i, i)Q^T(i, j) \n",
    "\n",
    "# Since QQ^T = I, we have that \n",
    "\n",
    "# Q(i, i)Q^T(i, j) = I(i, j) \n",
    "\n",
    "# Since the diagonal entries of the identity matrix are 1, we have that \n",
    "\n",
    "# Q(i, i)Q^T(i, j) = 1 \n",
    "\n",
    "# Therefore, if i = j, we have that \n",
    "\n",
    "# Q(i, i)Q^T(i, j) = 1 \n",
    "\n",
    "# Combining the two cases, we have that \n",
    "\n",
    "# Q(i, j)Q^T(i, j) = 0 if i ≠ j \n",
    "# Q(i, j)Q^T(i, j) = 1 if i = j \n",
    "\n",
    "# Therefore, we have that \n",
    "\n",
    "# Q(i, j) = 0 if i ≠ j \n",
    "# Q(i, j) ≠ 0 if i = j \n",
    "\n",
    "# Therefore, we can conclude that Q is diagonal."
   ]
  },
  {
   "cell_type": "code",
   "execution_count": null,
   "metadata": {},
   "outputs": [],
   "source": [
    "# Let Q = [q_ij] and Q^T = [q_ji]. Since Q is lower triangular, we have q_ij = 0 for i < j.\n",
    "\n",
    "# Then QQ^T = I implies Q^T = Q^{-1}, and can be written as\n",
    "\n",
    "# [q_11 q_12 ... q_1n]   [q_11 q_21 ... q_n1]\n",
    "# [0    q_22 ... q_2n] = [q_12 q_22 ... q_n2]\n",
    "# [0    0    ... q_nn]   [q_13 q_23 ... q_nn]\n",
    "\n",
    "# Forward substitution gives us:\n",
    "\n",
    "# q_11 = 1 / q_11\n",
    "\n",
    "# q_21 = - (q_12 q_11) / q_22\n",
    "\n",
    "# q_31 = - (q_13 q_11 + q_23 q_21) / q_33\n",
    "\n",
    "# ...\n",
    "\n",
    "# q_n1 = - (q_1n q_11 + ... + q_n-1,n q_n-1,1) / q_nn\n",
    "\n",
    "# Since Q is lower triangular, q_ij = 0 for i < j, and so the terms in the denominator are all nonzero. \n",
    "\n",
    "# This implies that q_i1 = 0 for all i > 1, and so Q^T is also lower triangular. \n",
    "\n",
    "# Since QQ^T = I, Q^T is also an inverse of Q, and so Q is a diagonal matrix."
   ]
  }
 ],
 "metadata": {
  "kernelspec": {
   "display_name": "ipykernel",
   "language": "python",
   "name": "python3"
  },
  "language_info": {
   "codemirror_mode": {
    "name": "ipython",
    "version": 3
   },
   "file_extension": ".py",
   "mimetype": "text/x-python",
   "name": "python",
   "nbconvert_exporter": "python",
   "pygments_lexer": "ipython3",
   "version": "3.9.12"
  }
 },
 "nbformat": 4,
 "nbformat_minor": 2
}
