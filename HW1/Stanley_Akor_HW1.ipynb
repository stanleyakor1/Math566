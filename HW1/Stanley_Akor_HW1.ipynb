{
 "cells": [
  {
   "cell_type": "code",
   "execution_count": 20,
   "id": "c9827e37",
   "metadata": {},
   "outputs": [],
   "source": [
    "import sympy as sp\n"
   ]
  },
  {
   "cell_type": "markdown",
   "id": "a3a3c9de",
   "metadata": {},
   "source": [
    "# Question 1"
   ]
  },
  {
   "cell_type": "markdown",
   "id": "19f9797f",
   "metadata": {},
   "source": [
    "# (a)"
   ]
  },
  {
   "cell_type": "markdown",
   "id": "0c0c37d6",
   "metadata": {},
   "source": [
    " We construct eight matrices $A_1$ through $A_4$, $C_1$ through $C_3$ and B. "
   ]
  },
  {
   "cell_type": "code",
   "execution_count": 28,
   "id": "07de2325",
   "metadata": {},
   "outputs": [
    {
     "data": {
      "text/latex": [
       "$\\displaystyle \\left[\\begin{matrix}1 & 0 & 0 & 0\\\\0 & 1 & 0 & 0\\\\0 & 0 & 1 & 0\\\\0 & 0 & 0 & 1\\end{matrix}\\right]$"
      ],
      "text/plain": [
       "Matrix([\n",
       "[1, 0, 0, 0],\n",
       "[0, 1, 0, 0],\n",
       "[0, 0, 1, 0],\n",
       "[0, 0, 0, 1]])"
      ]
     },
     "execution_count": 28,
     "metadata": {},
     "output_type": "execute_result"
    }
   ],
   "source": [
    "B = sp.eye(4)\n",
    "B"
   ]
  },
  {
   "cell_type": "code",
   "execution_count": 13,
   "id": "de452a5c",
   "metadata": {},
   "outputs": [],
   "source": [
    "# double column 1"
   ]
  },
  {
   "cell_type": "code",
   "execution_count": 22,
   "id": "b082c8d0",
   "metadata": {},
   "outputs": [
    {
     "data": {
      "text/latex": [
       "$\\displaystyle \\left[\\begin{matrix}2 & 0 & 0 & 0\\\\0 & 1 & 0 & 0\\\\0 & 0 & 1 & 0\\\\0 & 0 & 0 & 1\\end{matrix}\\right]$"
      ],
      "text/plain": [
       "Matrix([\n",
       "[2, 0, 0, 0],\n",
       "[0, 1, 0, 0],\n",
       "[0, 0, 1, 0],\n",
       "[0, 0, 0, 1]])"
      ]
     },
     "execution_count": 22,
     "metadata": {},
     "output_type": "execute_result"
    }
   ],
   "source": [
    "C1=sp.eye(4)\n",
    "C1[0,:]=2*C1[0,:]\n",
    "result=B*C1\n",
    "result"
   ]
  },
  {
   "cell_type": "code",
   "execution_count": 15,
   "id": "2264bdc2",
   "metadata": {},
   "outputs": [],
   "source": [
    "# halve row 3"
   ]
  },
  {
   "cell_type": "code",
   "execution_count": 16,
   "id": "687eaf99",
   "metadata": {},
   "outputs": [
    {
     "data": {
      "text/latex": [
       "$\\displaystyle \\left[\\begin{matrix}2 & 0 & 0 & 0\\\\0 & 1 & 0 & 0\\\\0 & 0 & 0.5 & 0\\\\0 & 0 & 0 & 1\\end{matrix}\\right]$"
      ],
      "text/plain": [
       "Matrix([\n",
       "[2, 0,   0, 0],\n",
       "[0, 1,   0, 0],\n",
       "[0, 0, 0.5, 0],\n",
       "[0, 0,   0, 1]])"
      ]
     },
     "execution_count": 16,
     "metadata": {},
     "output_type": "execute_result"
    }
   ],
   "source": [
    "A1=sp.eye(4)\n",
    "A1[2,:]=0.5*A1[2,:]\n",
    "result = A1*B*C1\n",
    "result"
   ]
  },
  {
   "cell_type": "code",
   "execution_count": 17,
   "id": "4c85b77e",
   "metadata": {},
   "outputs": [
    {
     "data": {
      "text/latex": [
       "$\\displaystyle \\left[\\begin{matrix}1 & 0 & 0 & 0\\\\0 & 1 & 0 & 0\\\\0 & 0 & 0.5 & 0\\\\0 & 0 & 0 & 1\\end{matrix}\\right]$"
      ],
      "text/plain": [
       "Matrix([\n",
       "[1, 0,   0, 0],\n",
       "[0, 1,   0, 0],\n",
       "[0, 0, 0.5, 0],\n",
       "[0, 0,   0, 1]])"
      ]
     },
     "execution_count": 17,
     "metadata": {},
     "output_type": "execute_result"
    }
   ],
   "source": [
    "A1"
   ]
  },
  {
   "cell_type": "code",
   "execution_count": 18,
   "id": "3926ec48",
   "metadata": {},
   "outputs": [],
   "source": [
    "# add row 3 to row 1"
   ]
  },
  {
   "cell_type": "code",
   "execution_count": 19,
   "id": "48083a97",
   "metadata": {},
   "outputs": [
    {
     "data": {
      "text/latex": [
       "$\\displaystyle \\left[\\begin{matrix}2 & 0 & 0.5 & 0\\\\0 & 1 & 0 & 0\\\\0 & 0 & 0.5 & 0\\\\0 & 0 & 0 & 1\\end{matrix}\\right]$"
      ],
      "text/plain": [
       "Matrix([\n",
       "[2, 0, 0.5, 0],\n",
       "[0, 1,   0, 0],\n",
       "[0, 0, 0.5, 0],\n",
       "[0, 0,   0, 1]])"
      ]
     },
     "execution_count": 19,
     "metadata": {},
     "output_type": "execute_result"
    }
   ],
   "source": [
    "A2=sp.eye(4)\n",
    "A2[0,:]=A2[0,:]+A2[2,:]\n",
    "result = A2*A1*B*C1\n",
    "result"
   ]
  },
  {
   "cell_type": "code",
   "execution_count": 8,
   "id": "bf934336",
   "metadata": {},
   "outputs": [
    {
     "data": {
      "text/latex": [
       "$\\displaystyle \\left[\\begin{matrix}1 & 0 & 1 & 0\\\\0 & 1 & 0 & 0\\\\0 & 0 & 1 & 0\\\\0 & 0 & 0 & 1\\end{matrix}\\right]$"
      ],
      "text/plain": [
       "Matrix([\n",
       "[1, 0, 1, 0],\n",
       "[0, 1, 0, 0],\n",
       "[0, 0, 1, 0],\n",
       "[0, 0, 0, 1]])"
      ]
     },
     "execution_count": 8,
     "metadata": {},
     "output_type": "execute_result"
    }
   ],
   "source": [
    "A2"
   ]
  },
  {
   "cell_type": "code",
   "execution_count": 9,
   "id": "7c7e07f9",
   "metadata": {},
   "outputs": [],
   "source": [
    "# interchange columns 1 and 4"
   ]
  },
  {
   "cell_type": "code",
   "execution_count": 10,
   "id": "63a0f536",
   "metadata": {},
   "outputs": [
    {
     "data": {
      "text/latex": [
       "$\\displaystyle \\left[\\begin{matrix}0 & 0 & 0 & 1\\\\0 & 1 & 0 & 0\\\\0 & 0 & 0.5 & 0\\\\2 & 0 & 0.5 & 0\\end{matrix}\\right]$"
      ],
      "text/plain": [
       "Matrix([\n",
       "[0, 0,   0, 1],\n",
       "[0, 1,   0, 0],\n",
       "[0, 0, 0.5, 0],\n",
       "[2, 0, 0.5, 0]])"
      ]
     },
     "execution_count": 10,
     "metadata": {},
     "output_type": "execute_result"
    }
   ],
   "source": [
    "A3=sp.eye(4)\n",
    "A3[0,:],A3[3,:]=A3[3,:],A3[0,:]\n",
    "result = A3*A2*A1*B*C1\n",
    "result"
   ]
  },
  {
   "cell_type": "code",
   "execution_count": 11,
   "id": "c5f908ed",
   "metadata": {},
   "outputs": [],
   "source": [
    "# subtract row 2 from each of the other rows"
   ]
  },
  {
   "cell_type": "code",
   "execution_count": 12,
   "id": "87fb160c",
   "metadata": {},
   "outputs": [
    {
     "data": {
      "text/latex": [
       "$\\displaystyle \\left[\\begin{matrix}0 & -1 & 0 & 1\\\\0 & 1 & 0 & 0\\\\0 & -1 & 0.5 & 0\\\\2 & -1 & 0.5 & 0\\end{matrix}\\right]$"
      ],
      "text/plain": [
       "Matrix([\n",
       "[0, -1,   0, 1],\n",
       "[0,  1,   0, 0],\n",
       "[0, -1, 0.5, 0],\n",
       "[2, -1, 0.5, 0]])"
      ]
     },
     "execution_count": 12,
     "metadata": {},
     "output_type": "execute_result"
    }
   ],
   "source": [
    "A4=sp.eye(4)\n",
    "index=[0,2,3]\n",
    "for i in index:\n",
    "    A4[i,1]=-1\n",
    "result=A4*A3*A2*A1*B*C1\n",
    "result"
   ]
  },
  {
   "cell_type": "code",
   "execution_count": 13,
   "id": "5cb69106",
   "metadata": {},
   "outputs": [],
   "source": [
    "# replace column 4 by column 3"
   ]
  },
  {
   "cell_type": "code",
   "execution_count": 14,
   "id": "89f2f0d6",
   "metadata": {},
   "outputs": [
    {
     "data": {
      "text/latex": [
       "$\\displaystyle \\left[\\begin{matrix}0 & -1 & 0 & 0\\\\0 & 1 & 0 & 0\\\\0 & -1 & 0.5 & 0.5\\\\2 & -1 & 0.5 & 0.5\\end{matrix}\\right]$"
      ],
      "text/plain": [
       "Matrix([\n",
       "[0, -1,   0,   0],\n",
       "[0,  1,   0,   0],\n",
       "[0, -1, 0.5, 0.5],\n",
       "[2, -1, 0.5, 0.5]])"
      ]
     },
     "execution_count": 14,
     "metadata": {},
     "output_type": "execute_result"
    }
   ],
   "source": [
    "C2=sp.eye(4)\n",
    "C2[:,3]=C2[:,2]\n",
    "result=A4*A3*A2*A1*B*C1*C2\n",
    "result"
   ]
  },
  {
   "cell_type": "code",
   "execution_count": 15,
   "id": "789c9e5a",
   "metadata": {},
   "outputs": [
    {
     "data": {
      "text/latex": [
       "$\\displaystyle \\left[\\begin{matrix}-1 & 0 & 0\\\\1 & 0 & 0\\\\-1 & 0.5 & 0.5\\\\-1 & 0.5 & 0.5\\end{matrix}\\right]$"
      ],
      "text/plain": [
       "Matrix([\n",
       "[-1,   0,   0],\n",
       "[ 1,   0,   0],\n",
       "[-1, 0.5, 0.5],\n",
       "[-1, 0.5, 0.5]])"
      ]
     },
     "execution_count": 15,
     "metadata": {},
     "output_type": "execute_result"
    }
   ],
   "source": [
    "C3=sp.eye(4)\n",
    "C3=C3[:,1:]\n",
    "result=A4*A3*A2*A1*B*C1*C2*C3\n",
    "result"
   ]
  },
  {
   "cell_type": "markdown",
   "id": "30744dd6",
   "metadata": {},
   "source": [
    "# (b)"
   ]
  },
  {
   "cell_type": "code",
   "execution_count": 16,
   "id": "e047e7ab",
   "metadata": {},
   "outputs": [
    {
     "data": {
      "text/latex": [
       "$\\displaystyle \\left[\\begin{matrix}-1 & 0 & 0\\\\1 & 0 & 0\\\\-1 & 0.5 & 0.5\\\\-1 & 0.5 & 0.5\\end{matrix}\\right]$"
      ],
      "text/plain": [
       "Matrix([\n",
       "[-1,   0,   0],\n",
       "[ 1,   0,   0],\n",
       "[-1, 0.5, 0.5],\n",
       "[-1, 0.5, 0.5]])"
      ]
     },
     "execution_count": 16,
     "metadata": {},
     "output_type": "execute_result"
    }
   ],
   "source": [
    "A=A4*A3*A2*A1\n",
    "C=C1*C2*C3\n",
    "result2=A*B*C\n",
    "result2"
   ]
  },
  {
   "cell_type": "markdown",
   "id": "46cedf41",
   "metadata": {},
   "source": [
    "# Question 2"
   ]
  },
  {
   "cell_type": "code",
   "execution_count": 18,
   "id": "6222b25c",
   "metadata": {},
   "outputs": [
    {
     "data": {
      "text/plain": [
       "'\\nProof: Let A be a matrix of rank one. Then A can be written as A=uvT, where u and v are vectors of length m.\\n\\nSince A has rank one, we know that both u and v must be linearly dependent. This means that there exists a scalar λ such that u=λv.\\n\\nTherefore, A can be written as A=uvT=λv2T, which is the product of two vectors of length m, and so A is indeed a matrix of rank one.\\n'"
      ]
     },
     "execution_count": 18,
     "metadata": {},
     "output_type": "execute_result"
    }
   ],
   "source": [
    "'''\n",
    "Proof: Let A be a matrix of rank one. Then A can be written as A=uvT, where u and v are vectors of length m.\n",
    "\n",
    "Since A has rank one, we know that both u and v must be linearly dependent. This means that there exists a scalar λ such that u=λv.\n",
    "\n",
    "Therefore, A can be written as A=uvT=λv2T, which is the product of two vectors of length m, and so A is indeed a matrix of rank one.\n",
    "'''"
   ]
  },
  {
   "cell_type": "code",
   "execution_count": null,
   "id": "563bccee",
   "metadata": {},
   "outputs": [],
   "source": [
    "'''\n",
    "Proof: \n",
    "Let A be an m x n matrix of rank 1. Then A can be written as A = uv^T, where u is an m x 1 vector and v is an n x 1 vector. \n",
    "\n",
    "Since A has rank 1, there must exist nonzero vectors u and v such that A = uv^T. \n",
    "\n",
    "Now, since u and v are nonzero vectors, then they are linearly independent and form a basis for the space R^m and R^n respectively. \n",
    "\n",
    "Thus, A = uv^T for some vectors u, v in R^m. \n",
    "\n",
    "Q.E.D.\n",
    "'''"
   ]
  },
  {
   "cell_type": "code",
   "execution_count": null,
   "id": "b71e7f98",
   "metadata": {},
   "outputs": [],
   "source": [
    "'''\n",
    "show that If A = uvT for some vectors u;,v 2 R^m, then A has rank one.\n",
    "\n",
    "\n",
    "Proof: Let A = uvT for some vectors u, v ∈ Rm. Then A has the form\n",
    "\n",
    "A = \n",
    "\\begin{bmatrix} \n",
    "u_1v_1 & u_1v_2 & \\cdots & u_1v_m \\\\\n",
    "u_2v_1 & u_2v_2 & \\cdots & u_2v_m \\\\\n",
    "\\vdots & \\vdots & \\ddots & \\vdots \\\\\n",
    "u_mv_1 & u_mv_2 & \\cdots & u_mv_m\n",
    "\\end{bmatrix}\n",
    "\n",
    "Since u and v are vectors, they are linearly dependent. Thus, there exists a scalar c such that cv = u. This implies that A = cuvT.\n",
    "\n",
    "Since c is a non-zero scalar, the rank of A is one.\n",
    "\n",
    "'''"
   ]
  },
  {
   "cell_type": "code",
   "execution_count": null,
   "id": "353d09c1",
   "metadata": {},
   "outputs": [],
   "source": [
    "'''\n",
    "\n",
    "show that If A has rank one, then A = uvT for some vectors u; v 2 Rm.\n",
    "\n",
    "\n",
    "Proof: Let A be an m×n matrix of rank one, and let \n",
    "\n",
    "A= [a11 a12 ... a1n \n",
    "a21 a22 ... a2n \n",
    "...\n",
    "am1 am2 ... amn]\n",
    "\n",
    "We can factor A as the product of two matrices\n",
    "\n",
    "A=UV^T\n",
    "\n",
    "where U is an m×1 matrix and V is an n×1 matrix.\n",
    "\n",
    "U= [u1 \n",
    "u2 \n",
    "...\n",
    "um]\n",
    "\n",
    "V= [v1 \n",
    "v2 \n",
    "...\n",
    "vn]\n",
    "\n",
    "For each entry (i,j) of A, we have\n",
    "\n",
    "aij=uivj\n",
    "\n",
    "We can solve for the entries of U and V by setting each equation equal to zero.\n",
    "\n",
    "u1a11+u2a21+...+uma1m=0\n",
    "\n",
    "V1a11+v2a12+...+vna1n=0\n",
    "\n",
    "...\n",
    "\n",
    "u1am1+u2am2+...+uma2m=0\n",
    "\n",
    "v1am1+v2am2+...+vnamn=0\n",
    "\n",
    "This system of equations has a non-zero solution, since A is of rank one. Thus, we can find vectors U and V such that A=UV^T.\n",
    "\n",
    "\n",
    "'''"
   ]
  },
  {
   "cell_type": "code",
   "execution_count": null,
   "id": "136750ff",
   "metadata": {},
   "outputs": [],
   "source": [
    "'''\n",
    "\n",
    "show that If A = uv^T for some vectors u, v in R^m, then A has rank one.\n",
    "\n",
    "\n",
    "Let A = uv^T. Then, A is a matrix of m rows and m columns.\n",
    "We can write A as a linear combination of its columns.\n",
    "A = uv^T = u*v1 + 0*v2 + ... + 0*vm\n",
    "where v1, v2, ..., vm are the columns of A.\n",
    "Since the only non-zero coefficient is for the first column, this implies that the rank of A is one.\n",
    "\n",
    "'''"
   ]
  },
  {
   "cell_type": "markdown",
   "id": "85d2cb5b",
   "metadata": {},
   "source": [
    "# soln 2.1\n"
   ]
  },
  {
   "cell_type": "code",
   "execution_count": null,
   "id": "6b84445e",
   "metadata": {},
   "outputs": [],
   "source": [
    "'''\n",
    "\n",
    "show that If A has rank one, then A = uv^T for some vectors u,v in R^m.\n",
    "\n",
    "Let A be an m x n matrix with rank one. This means that A has only one linearly independent column vector (or row vector).\n",
    "Let A = [a_1 a_2 ... a_n], where a_1, a_2, ... , a_n are column vectors in R^m.\n",
    "We can express a_1, a_2, ... , a_n as a linear combination of some vectors u_1, u_2, ..., u_m.\n",
    "\n",
    "a_1 = c_1u_1 + c_2u_2 + ... + c_mu_m\n",
    "a_2 = d_1u_1 + d_2u_2 + ... + d_mu_m\n",
    "...\n",
    "a_n = f_1u_1 + f_2u_2 + ... + f_mu_m\n",
    "\n",
    "where c_1, c_2, ..., c_m, d_1, d_2, ..., d_m, ..., f_1, f_2, ..., f_m are scalars.\n",
    "\n",
    "This implies that A can be written as\n",
    "A = [c_1u_1 + c_2u_2 + ... + c_mu_m  d_1u_1 + d_2u_2 + ... + d_mu_m  ...  f_1u_1 + f_2u_2 + ... + f_mu_m]\n",
    "\n",
    "Let v = [c_1  d_1  ...  f_1  c_2  d_2  ...  f_2  ...  c_m  d_m  ...  f_m]^T\n",
    "\n",
    "We can rewrite A as\n",
    "A = [u_1  u_2  ...  u_m] [c_1  c_2  ...  c_m  d_1  d_2  ...  d_m  ...  f_1  f_2  ...  f_m]\n",
    "  = [u_1  u_2  ...  u_m]v^T\n",
    "  = uv^T\n",
    "\n",
    "Therefore, A = uv^T for some vectors u,v in R^m.\n",
    "\n",
    "\n",
    "'''"
   ]
  },
  {
   "cell_type": "code",
   "execution_count": null,
   "id": "da721237",
   "metadata": {},
   "outputs": [],
   "source": [
    "'''\n",
    "\n",
    "prove that if If A has rank one, then A = uvT for some vectors u, v in R^m.\n",
    "\n",
    "\n",
    "Proof:\n",
    "\n",
    "Let A be an m x n matrix with rank one. Then A has only one non-zero singular value, which means that A has the singular value decomposition A = u1v1T, where u1 and v1 are m x 1 and n x 1 vectors, respectively.\n",
    "\n",
    "Since the rank of A is one, the columns of A must be linearly dependent, so there exist scalar constants c1, c2, ..., cn such that c1u1 + c2u2 + ... + cnuN = 0.\n",
    "\n",
    "Therefore, A can be written as A = c1u1v1T + c2u2v2T + ... + cnuNvNT = (c1u1 + c2u2 + ... + cnuN) (c1v1 + c2v2 + ... + cnuN)T = uvT, where u = c1u1 + c2u2 + ... + cnuN and v = c1v1 + c2v2 + ... + cnuN.\n",
    "\n",
    "Hence, we have shown that if A has rank one, then A = uvT for some vectors u, v in R^m.\n",
    "\n",
    "'''"
   ]
  },
  {
   "cell_type": "code",
   "execution_count": null,
   "id": "cd79d539",
   "metadata": {},
   "outputs": [],
   "source": [
    "'''\n",
    "\n",
    "\n",
    "A = uv^T is a matrix of m rows and m columns. \n",
    "We know that the rank of a matrix is equal to the number of linearly independent columns or rows. \n",
    "Since the columns of A are linearly dependent (u and v are scalar multiples of each other), A has rank one.\n",
    "\n",
    "'''"
   ]
  },
  {
   "cell_type": "code",
   "execution_count": null,
   "id": "28034e4b",
   "metadata": {},
   "outputs": [],
   "source": [
    "'''\n",
    "\n",
    "\n",
    "Proof: Let A = uv^T be a matrix for some vectors u and v in R^m.\n",
    "\n",
    "Since A is a product of two vectors, it has exactly m non-zero entries. Moreover, since the number of columns and rows of A is m, A has exactly m linearly independent rows and columns. \n",
    "\n",
    "Therefore, the rank of A is equal to the number of non-zero entries, which is m. Since m is a positive integer, A has rank one.\n",
    "'''"
   ]
  },
  {
   "cell_type": "code",
   "execution_count": null,
   "id": "0f419099",
   "metadata": {},
   "outputs": [],
   "source": [
    "'''\n",
    "Proof: Since A = uvT, we can write A as the product of two matrices: \n",
    "A = (u)(v)T.\n",
    "Since each of u and v are vectors in R^m, the rank of A is the rank of the product (u)(v)T which is the rank of u times the rank of v. \n",
    "Since u and v are both vectors, they have rank one, thus the rank of A is one.\n",
    "\n",
    "'''"
   ]
  },
  {
   "cell_type": "code",
   "execution_count": null,
   "id": "0e5c1872",
   "metadata": {},
   "outputs": [],
   "source": []
  },
  {
   "cell_type": "code",
   "execution_count": null,
   "id": "c4713283",
   "metadata": {},
   "outputs": [],
   "source": []
  },
  {
   "cell_type": "code",
   "execution_count": null,
   "id": "4aae09d2",
   "metadata": {},
   "outputs": [],
   "source": [
    "##Q4\n",
    "'''\n",
    "Given the rank one perturbation of the identity matrix A, it takes m^2 floating point operations to compute Ax. \n",
    "This is because the matrix A can be written as A=I+uv^T=UΣV^T, where U and V are m-by-m orthonormal matrices and Σ is a diagonal matrix with a single non-zero entry.\n",
    "The computation of Ax involves the matrix-vector product UΣV^Tx, which requires m^2 floating point operations.\n",
    "\n",
    "'''"
   ]
  },
  {
   "cell_type": "code",
   "execution_count": null,
   "id": "c649c545",
   "metadata": {},
   "outputs": [],
   "source": [
    "'''\n",
    "\n",
    "It takes m*m floating point operations to calculate Ax, since the rank one perturbation of m-by-m identity matrix A is m-by-m.\n",
    "\n",
    "The computation of Ax is written as follows: \n",
    "Ax = Ix + uv^T x = x + u(v^Tx)\n",
    "\n",
    "This requires m operations to calculate x + u, m operations to calculate v^Tx, and m operations to calculate u(v^Tx). Thus, the total number of operations is m + m + m = m*m.\n",
    "\n",
    "'''"
   ]
  },
  {
   "cell_type": "code",
   "execution_count": null,
   "id": "65f30e34",
   "metadata": {},
   "outputs": [],
   "source": [
    "'''\n",
    "The number of floating point operations it takes to compute Ax is m(m+1). This is because the number of operations required to compute the dot product of two vectors is m, and the number of operations required to multiply a matrix with a vector is m^2.\n",
    "\n",
    "'''"
   ]
  },
  {
   "cell_type": "code",
   "execution_count": null,
   "id": "4466d648",
   "metadata": {},
   "outputs": [],
   "source": [
    "'''\n",
    "\n",
    "The number of floating point operations it takes to compute Ax is m^2+2m. \n",
    "\n",
    "This is because the matrix A is a rank one perturbation of the m-by-m identity matrix, which means it can be written as A=I+uv^T, where u and v are m-dimensional vectors. \n",
    "Since A is a rank one matrix, it can be written as A=uw^T, where w = v^T x. \n",
    "By definition, Ax = u(v^T x). To calculate u(v^T x), we need to perform m multiplications for each element of u, resulting in a total of m^2 multiplications.\n",
    "We also need to perform m additions for each element of u, resulting in a total of 2m additions. \n",
    "Hence, the number of floating point operations it takes to compute Ax is m^2+2m.\n",
    "\n",
    "'''"
   ]
  }
 ],
 "metadata": {
  "kernelspec": {
   "display_name": "ipykernel",
   "language": "python",
   "name": "python3"
  },
  "language_info": {
   "codemirror_mode": {
    "name": "ipython",
    "version": 3
   },
   "file_extension": ".py",
   "mimetype": "text/x-python",
   "name": "python",
   "nbconvert_exporter": "python",
   "pygments_lexer": "ipython3",
   "version": "3.9.12"
  }
 },
 "nbformat": 4,
 "nbformat_minor": 5
}
