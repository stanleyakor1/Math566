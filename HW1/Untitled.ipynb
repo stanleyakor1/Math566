{
 "cells": [
  {
   "cell_type": "code",
   "execution_count": 1,
   "id": "25639d69",
   "metadata": {},
   "outputs": [],
   "source": [
    "import sympy as sp\n",
    "B=sp.eye(4)"
   ]
  },
  {
   "cell_type": "code",
   "execution_count": 2,
   "id": "f18199a5",
   "metadata": {},
   "outputs": [],
   "source": [
    "B[:,0]=2*B[:,0]"
   ]
  },
  {
   "cell_type": "code",
   "execution_count": 3,
   "id": "0e120249",
   "metadata": {},
   "outputs": [
    {
     "data": {
      "text/latex": [
       "$\\displaystyle \\left[\\begin{matrix}2 & 0 & 0 & 0\\\\0 & 1 & 0 & 0\\\\0 & 0 & 1 & 0\\\\0 & 0 & 0 & 1\\end{matrix}\\right]$"
      ],
      "text/plain": [
       "Matrix([\n",
       "[2, 0, 0, 0],\n",
       "[0, 1, 0, 0],\n",
       "[0, 0, 1, 0],\n",
       "[0, 0, 0, 1]])"
      ]
     },
     "execution_count": 3,
     "metadata": {},
     "output_type": "execute_result"
    }
   ],
   "source": [
    "B"
   ]
  },
  {
   "cell_type": "code",
   "execution_count": 4,
   "id": "d30a463e",
   "metadata": {},
   "outputs": [],
   "source": [
    "B[2,:]=0.5*B[2,:]"
   ]
  },
  {
   "cell_type": "code",
   "execution_count": 5,
   "id": "1e4789ef",
   "metadata": {},
   "outputs": [
    {
     "data": {
      "text/latex": [
       "$\\displaystyle \\left[\\begin{matrix}2 & 0 & 0 & 0\\\\0 & 1 & 0 & 0\\\\0 & 0 & 0.5 & 0\\\\0 & 0 & 0 & 1\\end{matrix}\\right]$"
      ],
      "text/plain": [
       "Matrix([\n",
       "[2, 0,   0, 0],\n",
       "[0, 1,   0, 0],\n",
       "[0, 0, 0.5, 0],\n",
       "[0, 0,   0, 1]])"
      ]
     },
     "execution_count": 5,
     "metadata": {},
     "output_type": "execute_result"
    }
   ],
   "source": [
    "B"
   ]
  },
  {
   "cell_type": "code",
   "execution_count": 6,
   "id": "6adc60b2",
   "metadata": {},
   "outputs": [],
   "source": [
    "B[0,:]=B[2,:]+B[0,:]"
   ]
  },
  {
   "cell_type": "code",
   "execution_count": 7,
   "id": "acf9a58b",
   "metadata": {},
   "outputs": [
    {
     "data": {
      "text/latex": [
       "$\\displaystyle \\left[\\begin{matrix}2 & 0 & 0.5 & 0\\\\0 & 1 & 0 & 0\\\\0 & 0 & 0.5 & 0\\\\0 & 0 & 0 & 1\\end{matrix}\\right]$"
      ],
      "text/plain": [
       "Matrix([\n",
       "[2, 0, 0.5, 0],\n",
       "[0, 1,   0, 0],\n",
       "[0, 0, 0.5, 0],\n",
       "[0, 0,   0, 1]])"
      ]
     },
     "execution_count": 7,
     "metadata": {},
     "output_type": "execute_result"
    }
   ],
   "source": [
    "B"
   ]
  },
  {
   "cell_type": "code",
   "execution_count": 8,
   "id": "dce8d244",
   "metadata": {},
   "outputs": [],
   "source": [
    "x=B[:,3].copy()\n",
    "y=B[:,0].copy()"
   ]
  },
  {
   "cell_type": "code",
   "execution_count": 9,
   "id": "9f99f13c",
   "metadata": {},
   "outputs": [],
   "source": [
    "B[:,3]=y\n",
    "B[:,0]=x"
   ]
  },
  {
   "cell_type": "code",
   "execution_count": 10,
   "id": "74b335e6",
   "metadata": {},
   "outputs": [
    {
     "data": {
      "text/latex": [
       "$\\displaystyle \\left[\\begin{matrix}0 & 0 & 0.5 & 2\\\\0 & 1 & 0 & 0\\\\0 & 0 & 0.5 & 0\\\\1 & 0 & 0 & 0\\end{matrix}\\right]$"
      ],
      "text/plain": [
       "Matrix([\n",
       "[0, 0, 0.5, 2],\n",
       "[0, 1,   0, 0],\n",
       "[0, 0, 0.5, 0],\n",
       "[1, 0,   0, 0]])"
      ]
     },
     "execution_count": 10,
     "metadata": {},
     "output_type": "execute_result"
    }
   ],
   "source": [
    "B"
   ]
  },
  {
   "cell_type": "code",
   "execution_count": 11,
   "id": "5e55be04",
   "metadata": {},
   "outputs": [],
   "source": [
    "L=[0,2,3]\n",
    "for i in L:\n",
    "    B[i,:]=B[i,:]-B[1,:]"
   ]
  },
  {
   "cell_type": "code",
   "execution_count": 12,
   "id": "7e8c7c73",
   "metadata": {},
   "outputs": [
    {
     "data": {
      "text/latex": [
       "$\\displaystyle \\left[\\begin{matrix}0 & -1 & 0.5 & 2\\\\0 & 1 & 0 & 0\\\\0 & -1 & 0.5 & 0\\\\1 & -1 & 0 & 0\\end{matrix}\\right]$"
      ],
      "text/plain": [
       "Matrix([\n",
       "[0, -1, 0.5, 2],\n",
       "[0,  1,   0, 0],\n",
       "[0, -1, 0.5, 0],\n",
       "[1, -1,   0, 0]])"
      ]
     },
     "execution_count": 12,
     "metadata": {},
     "output_type": "execute_result"
    }
   ],
   "source": [
    "B"
   ]
  },
  {
   "cell_type": "code",
   "execution_count": 13,
   "id": "08f80276",
   "metadata": {},
   "outputs": [],
   "source": [
    "B[:,3]=B[:,2]"
   ]
  },
  {
   "cell_type": "code",
   "execution_count": 14,
   "id": "09751474",
   "metadata": {},
   "outputs": [
    {
     "data": {
      "text/latex": [
       "$\\displaystyle \\left[\\begin{matrix}0 & -1 & 0.5 & 0.5\\\\0 & 1 & 0 & 0\\\\0 & -1 & 0.5 & 0.5\\\\1 & -1 & 0 & 0\\end{matrix}\\right]$"
      ],
      "text/plain": [
       "Matrix([\n",
       "[0, -1, 0.5, 0.5],\n",
       "[0,  1,   0,   0],\n",
       "[0, -1, 0.5, 0.5],\n",
       "[1, -1,   0,   0]])"
      ]
     },
     "execution_count": 14,
     "metadata": {},
     "output_type": "execute_result"
    }
   ],
   "source": [
    "B"
   ]
  },
  {
   "cell_type": "code",
   "execution_count": 15,
   "id": "fb7cac65",
   "metadata": {},
   "outputs": [],
   "source": [
    "B=B[:,1:]"
   ]
  },
  {
   "cell_type": "code",
   "execution_count": 16,
   "id": "8801a80b",
   "metadata": {},
   "outputs": [
    {
     "data": {
      "text/latex": [
       "$\\displaystyle \\left[\\begin{matrix}-1 & 0.5 & 0.5\\\\1 & 0 & 0\\\\-1 & 0.5 & 0.5\\\\-1 & 0 & 0\\end{matrix}\\right]$"
      ],
      "text/plain": [
       "Matrix([\n",
       "[-1, 0.5, 0.5],\n",
       "[ 1,   0,   0],\n",
       "[-1, 0.5, 0.5],\n",
       "[-1,   0,   0]])"
      ]
     },
     "execution_count": 16,
     "metadata": {},
     "output_type": "execute_result"
    }
   ],
   "source": [
    "B"
   ]
  },
  {
   "cell_type": "code",
   "execution_count": 48,
   "id": "f0439ccb",
   "metadata": {},
   "outputs": [],
   "source": [
    "from numpy import *\n",
    "from numpy.linalg import eig"
   ]
  },
  {
   "cell_type": "code",
   "execution_count": 49,
   "id": "3aacc3ec",
   "metadata": {},
   "outputs": [],
   "source": [
    "A=matrix([[14,-2],[-8,19]])"
   ]
  },
  {
   "cell_type": "code",
   "execution_count": null,
   "id": "53b9c91c",
   "metadata": {},
   "outputs": [],
   "source": []
  },
  {
   "cell_type": "code",
   "execution_count": 58,
   "id": "149270c6",
   "metadata": {},
   "outputs": [],
   "source": [
    "A__=A.T@A"
   ]
  },
  {
   "cell_type": "code",
   "execution_count": 59,
   "id": "fde95450",
   "metadata": {},
   "outputs": [
    {
     "data": {
      "text/plain": [
       "matrix([[ 260, -180],\n",
       "        [-180,  365]])"
      ]
     },
     "execution_count": 59,
     "metadata": {},
     "output_type": "execute_result"
    }
   ],
   "source": [
    "A__"
   ]
  },
  {
   "cell_type": "code",
   "execution_count": 52,
   "id": "09422792",
   "metadata": {},
   "outputs": [
    {
     "data": {
      "text/plain": [
       "(array([125., 500.]),\n",
       " matrix([[-0.8,  0.6],\n",
       "         [-0.6, -0.8]]))"
      ]
     },
     "execution_count": 52,
     "metadata": {},
     "output_type": "execute_result"
    }
   ],
   "source": [
    "eig(A__)"
   ]
  },
  {
   "cell_type": "code",
   "execution_count": 62,
   "id": "75023afa",
   "metadata": {},
   "outputs": [
    {
     "data": {
      "text/plain": [
       "matrix([[0.8],\n",
       "        [0.6]])"
      ]
     },
     "execution_count": 62,
     "metadata": {},
     "output_type": "execute_result"
    }
   ],
   "source": [
    "B=matrix([4/5,3/5]).T\n",
    "B"
   ]
  },
  {
   "cell_type": "code",
   "execution_count": 63,
   "id": "1061062f",
   "metadata": {},
   "outputs": [
    {
     "data": {
      "text/plain": [
       "matrix([[10.],\n",
       "        [ 5.]])"
      ]
     },
     "metadata": {},
     "output_type": "display_data"
    }
   ],
   "source": [
    "display(A@B)"
   ]
  },
  {
   "cell_type": "code",
   "execution_count": null,
   "id": "ed332bb0",
   "metadata": {},
   "outputs": [],
   "source": []
  }
 ],
 "metadata": {
  "kernelspec": {
   "display_name": "ipykernel",
   "language": "python",
   "name": "python3"
  },
  "language_info": {
   "codemirror_mode": {
    "name": "ipython",
    "version": 3
   },
   "file_extension": ".py",
   "mimetype": "text/x-python",
   "name": "python",
   "nbconvert_exporter": "python",
   "pygments_lexer": "ipython3",
   "version": "3.9.12"
  }
 },
 "nbformat": 4,
 "nbformat_minor": 5
}
